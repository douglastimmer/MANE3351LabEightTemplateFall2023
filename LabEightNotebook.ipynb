{
 "cells": [
  {
   "cell_type": "markdown",
   "id": "e62cf358",
   "metadata": {},
   "source": [
    "# MANE 3351\n",
    "## Laboratory Eight\n",
    "### Your Name"
   ]
  },
  {
   "cell_type": "code",
   "execution_count": null,
   "id": "b5d35914",
   "metadata": {},
   "outputs": [],
   "source": [
    "# Cell 2\n",
    "# Define the function\n",
    "# Vectorize the function\n",
    "#Create arrays for x and y\n",
    "# Plot the data\n",
    "# Select a pair of starting values that bracket the roots"
   ]
  },
  {
   "cell_type": "code",
   "execution_count": null,
   "id": "90715076",
   "metadata": {},
   "outputs": [],
   "source": [
    "# Cell 3\n",
    "# implement a bracketed root finding technique with a tolerance of 10^-5"
   ]
  },
  {
   "cell_type": "code",
   "execution_count": null,
   "id": "cb841199",
   "metadata": {},
   "outputs": [],
   "source": [
    "# Cell 4\n",
    "# implement a non-bracketed root fiding technique with a tolerance of 10^-5"
   ]
  }
 ],
 "metadata": {
  "kernelspec": {
   "display_name": "Python 3 (ipykernel)",
   "language": "python",
   "name": "python3"
  },
  "language_info": {
   "codemirror_mode": {
    "name": "ipython",
    "version": 3
   },
   "file_extension": ".py",
   "mimetype": "text/x-python",
   "name": "python",
   "nbconvert_exporter": "python",
   "pygments_lexer": "ipython3",
   "version": "3.10.12"
  }
 },
 "nbformat": 4,
 "nbformat_minor": 5
}
